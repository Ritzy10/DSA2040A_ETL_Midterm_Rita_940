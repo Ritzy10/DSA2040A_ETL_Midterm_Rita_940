{
 "cells": [
  {
   "cell_type": "code",
   "execution_count": null,
   "id": "5c2452c4",
   "metadata": {},
   "outputs": [
    {
     "name": "stdout",
     "output_type": "stream",
     "text": [
      "Preview from full_data.db:\n",
      "   order_id customer_name product  quantity  unit_price  order_date region  \\\n",
      "0         1         Diana  Tablet       2.0       500.0  2024-01-20  South   \n",
      "1         2           Eve  Laptop       2.0       500.0  2024-04-29  North   \n",
      "2         3       Charlie  Laptop       2.0       250.0  2024-01-08   None   \n",
      "3         4           Eve  Laptop       2.0       750.0  2024-01-07   West   \n",
      "4         5           Eve  Tablet       3.0       500.0  2024-03-07  South   \n",
      "\n",
      "   total_price  order_year  \n",
      "0       1000.0      2024.0  \n",
      "1       1000.0      2024.0  \n",
      "2        500.0      2024.0  \n",
      "3       1500.0      2024.0  \n",
      "4       1500.0      2024.0  \n",
      "\n",
      "Preview from incremental_data.db:\n",
      "   order_id customer_name product  quantity  unit_price  order_date   region  \\\n",
      "0       101         Alice  Laptop       1.5       900.0  2024-05-09  Central   \n",
      "1       102          None  Laptop       1.0       300.0  2024-05-07  Central   \n",
      "2       103          None  Laptop       1.0       600.0  2024-05-04  Central   \n",
      "3       104          None  Tablet       1.5       300.0  2024-05-26  Central   \n",
      "4       105         Heidi  Tablet       2.0       600.0  2024-05-21    North   \n",
      "\n",
      "   total_price  order_year  \n",
      "0       1350.0        2024  \n",
      "1        300.0        2024  \n",
      "2        600.0        2024  \n",
      "3        450.0        2024  \n",
      "4       1200.0        2024  \n"
     ]
    }
   ],
   "source": [
    "# ETL Step 3: Load\n",
    "import pandas as pd\n",
    "import sqlite3\n",
    "\n",
    "# 1: Load the transformed CSV files\n",
    "# These files were generated in the transform step\n",
    "full_df = pd.read_csv('transformed/transformed_full.csv')\n",
    "incr_df = pd.read_csv('transformed/transformed_incremental.csv')\n",
    "\n",
    "# 2: Connect to SQLite and load data into databases\n",
    "# Create a connection to two SQLite databases\n",
    "conn_full = sqlite3.connect('loaded/full_data.db')\n",
    "conn_incr = sqlite3.connect('loaded/incremental_data.db')\n",
    "\n",
    "# 3: Load the DataFrames into the databases\n",
    "# The table names will be 'full_data' and 'incremental_data'\n",
    "full_df.to_sql('full_data', conn_full, if_exists='replace', index=False)\n",
    "incr_df.to_sql('incremental_data', conn_incr, if_exists='replace', index=False)\n",
    "\n",
    "# 4: Preview stored results using SQL query\n",
    "print(\"Preview from full_data.db:\")\n",
    "print(pd.read_sql(\"SELECT * FROM full_data LIMIT 5\", conn_full))\n",
    "\n",
    "print(\"\\nPreview from incremental_data.db:\")\n",
    "print(pd.read_sql(\"SELECT * FROM incremental_data LIMIT 5\", conn_incr))\n",
    "\n",
    "# 5: Close database connections\n",
    "conn_full.close()\n",
    "conn_incr.close()\n",
    "\n"
   ]
  }
 ],
 "metadata": {
  "kernelspec": {
   "display_name": "Python 3",
   "language": "python",
   "name": "python3"
  },
  "language_info": {
   "codemirror_mode": {
    "name": "ipython",
    "version": 3
   },
   "file_extension": ".py",
   "mimetype": "text/x-python",
   "name": "python",
   "nbconvert_exporter": "python",
   "pygments_lexer": "ipython3",
   "version": "3.13.4"
  }
 },
 "nbformat": 4,
 "nbformat_minor": 5
}
